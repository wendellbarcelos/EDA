{
 "cells": [
  {
   "cell_type": "markdown",
   "metadata": {},
   "source": [
    "## Analise Exploratório EDA\n",
    "\n",
    "Contexto: Uma empresa de e-commerce deseja entender melhor os dados de vendas dos últimos dois anos para otimizar suas campanhas de marketing, aumentar o lucro e identificar padrões de comportamento dos clientes.\n",
    "\n",
    "Objetivo: Explorar o conjunto de dados de vendas para descobrir insights sobre o comportamento dos clientes, padrões de venda ao longo do tempo, e identificar fatores que influenciam o volume de vendas."
   ]
  },
  {
   "cell_type": "code",
   "execution_count": 2,
   "metadata": {},
   "outputs": [],
   "source": [
    "# Importando as bibliotecas\n",
    "import pandas as pd\n",
    "import numpy as np"
   ]
  },
  {
   "cell_type": "markdown",
   "metadata": {},
   "source": [
    "#### Carregamento dos dados"
   ]
  },
  {
   "cell_type": "code",
   "execution_count": 3,
   "metadata": {},
   "outputs": [
    {
     "data": {
      "text/html": [
       "<div>\n",
       "<style scoped>\n",
       "    .dataframe tbody tr th:only-of-type {\n",
       "        vertical-align: middle;\n",
       "    }\n",
       "\n",
       "    .dataframe tbody tr th {\n",
       "        vertical-align: top;\n",
       "    }\n",
       "\n",
       "    .dataframe thead th {\n",
       "        text-align: right;\n",
       "    }\n",
       "</style>\n",
       "<table border=\"1\" class=\"dataframe\">\n",
       "  <thead>\n",
       "    <tr style=\"text-align: right;\">\n",
       "      <th></th>\n",
       "      <th>ProductID</th>\n",
       "      <th>CustomerID</th>\n",
       "      <th>ShipDate</th>\n",
       "      <th>Quantity</th>\n",
       "      <th>UnitPrice</th>\n",
       "      <th>TotalPrice</th>\n",
       "      <th>State</th>\n",
       "      <th>Region</th>\n",
       "      <th>Category</th>\n",
       "      <th>Product</th>\n",
       "    </tr>\n",
       "  </thead>\n",
       "  <tbody>\n",
       "    <tr>\n",
       "      <th>0</th>\n",
       "      <td>4</td>\n",
       "      <td>13</td>\n",
       "      <td>2024-04-03</td>\n",
       "      <td>12</td>\n",
       "      <td>1621.89</td>\n",
       "      <td>19462.68</td>\n",
       "      <td>MS</td>\n",
       "      <td>Centro-Oeste</td>\n",
       "      <td>Eletroeletrônicos</td>\n",
       "      <td>Cafeteira Elétrica</td>\n",
       "    </tr>\n",
       "    <tr>\n",
       "      <th>1</th>\n",
       "      <td>15</td>\n",
       "      <td>13</td>\n",
       "      <td>2023-11-03</td>\n",
       "      <td>3</td>\n",
       "      <td>4084.61</td>\n",
       "      <td>12253.83</td>\n",
       "      <td>DF</td>\n",
       "      <td>Centro-Oeste</td>\n",
       "      <td>Casa e Jardim</td>\n",
       "      <td>Aspirador de Pó</td>\n",
       "    </tr>\n",
       "    <tr>\n",
       "      <th>2</th>\n",
       "      <td>28</td>\n",
       "      <td>27</td>\n",
       "      <td>2023-12-03</td>\n",
       "      <td>5</td>\n",
       "      <td>2541.08</td>\n",
       "      <td>12705.40</td>\n",
       "      <td>MS</td>\n",
       "      <td>Centro-Oeste</td>\n",
       "      <td>Informática</td>\n",
       "      <td>Teclado Mecânico</td>\n",
       "    </tr>\n",
       "    <tr>\n",
       "      <th>3</th>\n",
       "      <td>14</td>\n",
       "      <td>4</td>\n",
       "      <td>2024-07-19</td>\n",
       "      <td>20</td>\n",
       "      <td>368.17</td>\n",
       "      <td>7363.40</td>\n",
       "      <td>MS</td>\n",
       "      <td>Centro-Oeste</td>\n",
       "      <td>Eletroeletrônicos</td>\n",
       "      <td>TV 4K 55'</td>\n",
       "    </tr>\n",
       "    <tr>\n",
       "      <th>4</th>\n",
       "      <td>25</td>\n",
       "      <td>17</td>\n",
       "      <td>2024-07-20</td>\n",
       "      <td>12</td>\n",
       "      <td>527.37</td>\n",
       "      <td>6328.44</td>\n",
       "      <td>MG</td>\n",
       "      <td>Sudeste</td>\n",
       "      <td>Videogame</td>\n",
       "      <td>Controle DualSense</td>\n",
       "    </tr>\n",
       "  </tbody>\n",
       "</table>\n",
       "</div>"
      ],
      "text/plain": [
       "   ProductID  CustomerID    ShipDate  Quantity  UnitPrice  TotalPrice State  \\\n",
       "0          4          13  2024-04-03        12    1621.89    19462.68    MS   \n",
       "1         15          13  2023-11-03         3    4084.61    12253.83    DF   \n",
       "2         28          27  2023-12-03         5    2541.08    12705.40    MS   \n",
       "3         14           4  2024-07-19        20     368.17     7363.40    MS   \n",
       "4         25          17  2024-07-20        12     527.37     6328.44    MG   \n",
       "\n",
       "         Region           Category             Product  \n",
       "0  Centro-Oeste  Eletroeletrônicos  Cafeteira Elétrica  \n",
       "1  Centro-Oeste      Casa e Jardim     Aspirador de Pó  \n",
       "2  Centro-Oeste        Informática    Teclado Mecânico  \n",
       "3  Centro-Oeste  Eletroeletrônicos           TV 4K 55'  \n",
       "4       Sudeste          Videogame  Controle DualSense  "
      ]
     },
     "execution_count": 3,
     "metadata": {},
     "output_type": "execute_result"
    }
   ],
   "source": [
    "# Importando a base de dados - Base criado com o GPT\n",
    "df_vendas = pd.read_csv('tabela_vendas.csv', encoding='utf-8')\n",
    "df_vendas.head(5)"
   ]
  },
  {
   "cell_type": "code",
   "execution_count": 4,
   "metadata": {},
   "outputs": [
    {
     "data": {
      "text/plain": [
       "(500, 10)"
      ]
     },
     "execution_count": 4,
     "metadata": {},
     "output_type": "execute_result"
    }
   ],
   "source": [
    "# Tamanha do dataset\n",
    "df_vendas.shape"
   ]
  },
  {
   "cell_type": "markdown",
   "metadata": {},
   "source": [
    "#### Limpeza e preparação dos dados"
   ]
  },
  {
   "cell_type": "code",
   "execution_count": 31,
   "metadata": {},
   "outputs": [],
   "source": [
    "# Valores Duplicados - Contagem dos dados duplicados do dataset, retorno 500 valores false, 0 valores true\n",
    "df_vendas.drop_duplicates(inplace=True)"
   ]
  },
  {
   "cell_type": "code",
   "execution_count": 35,
   "metadata": {},
   "outputs": [
    {
     "data": {
      "text/plain": [
       "ProductID     0\n",
       "CustomerID    0\n",
       "ShipDate      0\n",
       "Quantity      0\n",
       "UnitPrice     0\n",
       "TotalPrice    0\n",
       "State         0\n",
       "Region        0\n",
       "Category      0\n",
       "Product       0\n",
       "dtype: int64"
      ]
     },
     "execution_count": 35,
     "metadata": {},
     "output_type": "execute_result"
    }
   ],
   "source": [
    "# Valores Faltantes - Verificar valores nulos\n",
    "df_vendas.isnull().sum()"
   ]
  },
  {
   "cell_type": "code",
   "execution_count": 36,
   "metadata": {},
   "outputs": [
    {
     "data": {
      "text/plain": [
       "<Axes: >"
      ]
     },
     "execution_count": 36,
     "metadata": {},
     "output_type": "execute_result"
    },
    {
     "data": {
      "image/png": "[encoded data removed]",
      "text/plain": [
       "<Figure size 640x480 with 1 Axes>"
      ]
     },
     "metadata": {},
     "output_type": "display_data"
    }
   ],
   "source": [
    "# Outliers - Com um grafico de boxplot podemos ver como os valores estão se comportando \n",
    "df_vendas.boxplot(column=['Quantity', 'UnitPrice', 'TotalPrice' ])"
   ]
  },
  {
   "cell_type": "code",
   "execution_count": 37,
   "metadata": {},
   "outputs": [
    {
     "data": {
      "text/html": [
       "<div>\n",
       "<style scoped>\n",
       "    .dataframe tbody tr th:only-of-type {\n",
       "        vertical-align: middle;\n",
       "    }\n",
       "\n",
       "    .dataframe tbody tr th {\n",
       "        vertical-align: top;\n",
       "    }\n",
       "\n",
       "    .dataframe thead th {\n",
       "        text-align: right;\n",
       "    }\n",
       "</style>\n",
       "<table border=\"1\" class=\"dataframe\">\n",
       "  <thead>\n",
       "    <tr style=\"text-align: right;\">\n",
       "      <th></th>\n",
       "      <th>ProductID</th>\n",
       "      <th>CustomerID</th>\n",
       "      <th>ShipDate</th>\n",
       "      <th>Quantity</th>\n",
       "      <th>UnitPrice</th>\n",
       "      <th>TotalPrice</th>\n",
       "      <th>State</th>\n",
       "      <th>Region</th>\n",
       "      <th>Category</th>\n",
       "      <th>Product</th>\n",
       "    </tr>\n",
       "  </thead>\n",
       "  <tbody>\n",
       "    <tr>\n",
       "      <th>22</th>\n",
       "      <td>48</td>\n",
       "      <td>9</td>\n",
       "      <td>2024-08-05</td>\n",
       "      <td>19</td>\n",
       "      <td>4775.22</td>\n",
       "      <td>90729.18</td>\n",
       "      <td>MG</td>\n",
       "      <td>Sudeste</td>\n",
       "      <td>Informática</td>\n",
       "      <td>Monitor Full HD</td>\n",
       "    </tr>\n",
       "    <tr>\n",
       "      <th>48</th>\n",
       "      <td>18</td>\n",
       "      <td>12</td>\n",
       "      <td>2024-07-22</td>\n",
       "      <td>20</td>\n",
       "      <td>4699.38</td>\n",
       "      <td>93987.60</td>\n",
       "      <td>SP</td>\n",
       "      <td>Sudeste</td>\n",
       "      <td>Eletroeletrônicos</td>\n",
       "      <td>Máquina de Lavar</td>\n",
       "    </tr>\n",
       "    <tr>\n",
       "      <th>64</th>\n",
       "      <td>41</td>\n",
       "      <td>7</td>\n",
       "      <td>2024-03-14</td>\n",
       "      <td>19</td>\n",
       "      <td>4830.11</td>\n",
       "      <td>91772.09</td>\n",
       "      <td>SC</td>\n",
       "      <td>Sul</td>\n",
       "      <td>Videogame</td>\n",
       "      <td>Controle DualSense</td>\n",
       "    </tr>\n",
       "    <tr>\n",
       "      <th>97</th>\n",
       "      <td>18</td>\n",
       "      <td>3</td>\n",
       "      <td>2024-05-07</td>\n",
       "      <td>19</td>\n",
       "      <td>4382.95</td>\n",
       "      <td>83276.05</td>\n",
       "      <td>AC</td>\n",
       "      <td>Norte</td>\n",
       "      <td>Eletroeletrônicos</td>\n",
       "      <td>Geladeira Frost Free</td>\n",
       "    </tr>\n",
       "    <tr>\n",
       "      <th>123</th>\n",
       "      <td>24</td>\n",
       "      <td>14</td>\n",
       "      <td>2024-06-03</td>\n",
       "      <td>20</td>\n",
       "      <td>4348.23</td>\n",
       "      <td>86964.60</td>\n",
       "      <td>RS</td>\n",
       "      <td>Sul</td>\n",
       "      <td>Casa e Jardim</td>\n",
       "      <td>Aspirador de Pó</td>\n",
       "    </tr>\n",
       "    <tr>\n",
       "      <th>139</th>\n",
       "      <td>2</td>\n",
       "      <td>3</td>\n",
       "      <td>2024-07-22</td>\n",
       "      <td>20</td>\n",
       "      <td>4067.92</td>\n",
       "      <td>81358.40</td>\n",
       "      <td>MS</td>\n",
       "      <td>Centro-Oeste</td>\n",
       "      <td>Casa e Jardim</td>\n",
       "      <td>Ventilador</td>\n",
       "    </tr>\n",
       "    <tr>\n",
       "      <th>265</th>\n",
       "      <td>44</td>\n",
       "      <td>8</td>\n",
       "      <td>2024-08-21</td>\n",
       "      <td>18</td>\n",
       "      <td>4826.64</td>\n",
       "      <td>86879.52</td>\n",
       "      <td>AC</td>\n",
       "      <td>Norte</td>\n",
       "      <td>Eletroeletrônicos</td>\n",
       "      <td>Micro-ondas</td>\n",
       "    </tr>\n",
       "    <tr>\n",
       "      <th>273</th>\n",
       "      <td>24</td>\n",
       "      <td>4</td>\n",
       "      <td>2023-12-28</td>\n",
       "      <td>20</td>\n",
       "      <td>4184.82</td>\n",
       "      <td>83696.40</td>\n",
       "      <td>RS</td>\n",
       "      <td>Sul</td>\n",
       "      <td>Videogame</td>\n",
       "      <td>Console PS5</td>\n",
       "    </tr>\n",
       "    <tr>\n",
       "      <th>325</th>\n",
       "      <td>23</td>\n",
       "      <td>6</td>\n",
       "      <td>2024-03-03</td>\n",
       "      <td>17</td>\n",
       "      <td>4957.78</td>\n",
       "      <td>84282.26</td>\n",
       "      <td>DF</td>\n",
       "      <td>Centro-Oeste</td>\n",
       "      <td>Informática</td>\n",
       "      <td>Mouse Gamer</td>\n",
       "    </tr>\n",
       "    <tr>\n",
       "      <th>375</th>\n",
       "      <td>15</td>\n",
       "      <td>25</td>\n",
       "      <td>2023-11-15</td>\n",
       "      <td>19</td>\n",
       "      <td>4362.19</td>\n",
       "      <td>82881.61</td>\n",
       "      <td>RS</td>\n",
       "      <td>Sul</td>\n",
       "      <td>Celulares</td>\n",
       "      <td>iPhone 14</td>\n",
       "    </tr>\n",
       "    <tr>\n",
       "      <th>392</th>\n",
       "      <td>2</td>\n",
       "      <td>24</td>\n",
       "      <td>2024-01-06</td>\n",
       "      <td>20</td>\n",
       "      <td>4406.16</td>\n",
       "      <td>88123.20</td>\n",
       "      <td>DF</td>\n",
       "      <td>Centro-Oeste</td>\n",
       "      <td>Celulares</td>\n",
       "      <td>iPhone 14</td>\n",
       "    </tr>\n",
       "  </tbody>\n",
       "</table>\n",
       "</div>"
      ],
      "text/plain": [
       "     ProductID  CustomerID    ShipDate  Quantity  UnitPrice  TotalPrice State  \\\n",
       "22          48           9  2024-08-05        19    4775.22    90729.18    MG   \n",
       "48          18          12  2024-07-22        20    4699.38    93987.60    SP   \n",
       "64          41           7  2024-03-14        19    4830.11    91772.09    SC   \n",
       "97          18           3  2024-05-07        19    4382.95    83276.05    AC   \n",
       "123         24          14  2024-06-03        20    4348.23    86964.60    RS   \n",
       "139          2           3  2024-07-22        20    4067.92    81358.40    MS   \n",
       "265         44           8  2024-08-21        18    4826.64    86879.52    AC   \n",
       "273         24           4  2023-12-28        20    4184.82    83696.40    RS   \n",
       "325         23           6  2024-03-03        17    4957.78    84282.26    DF   \n",
       "375         15          25  2023-11-15        19    4362.19    82881.61    RS   \n",
       "392          2          24  2024-01-06        20    4406.16    88123.20    DF   \n",
       "\n",
       "           Region           Category               Product  \n",
       "22        Sudeste        Informática       Monitor Full HD  \n",
       "48        Sudeste  Eletroeletrônicos      Máquina de Lavar  \n",
       "64            Sul          Videogame    Controle DualSense  \n",
       "97          Norte  Eletroeletrônicos  Geladeira Frost Free  \n",
       "123           Sul      Casa e Jardim       Aspirador de Pó  \n",
       "139  Centro-Oeste      Casa e Jardim            Ventilador  \n",
       "265         Norte  Eletroeletrônicos           Micro-ondas  \n",
       "273           Sul          Videogame           Console PS5  \n",
       "325  Centro-Oeste        Informática           Mouse Gamer  \n",
       "375           Sul          Celulares             iPhone 14  \n",
       "392  Centro-Oeste          Celulares             iPhone 14  "
      ]
     },
     "execution_count": 37,
     "metadata": {},
     "output_type": "execute_result"
    }
   ],
   "source": [
    "# Retornando as linhas com os valores maiores que 80k para verificar se eram outliers ou valores corretos\n",
    "df_vendas.loc[df_vendas['TotalPrice'] > 80000]"
   ]
  },
  {
   "cell_type": "code",
   "execution_count": null,
   "metadata": {},
   "outputs": [],
   "source": [
    "df_TotalPrice = df_vendas"
   ]
  }
 ],
 "metadata": {
  "kernelspec": {
   "display_name": "Python 3",
   "language": "python",
   "name": "python3"
  },
  "language_info": {
   "codemirror_mode": {
    "name": "ipython",
    "version": 3
   },
   "file_extension": ".py",
   "mimetype": "text/x-python",
   "name": "python",
   "nbconvert_exporter": "python",
   "pygments_lexer": "ipython3",
   "version": "3.12.5"
  }
 },
 "nbformat": 4,
 "nbformat_minor": 2
}
