{
 "cells": [
  {
   "cell_type": "markdown",
   "metadata": {},
   "source": [
    "## Analise Exploratório EDA\n",
    "\n",
    "Contexto: Uma empresa de e-commerce deseja entender melhor os dados de vendas dos últimos dois anos para otimizar suas campanhas de marketing, aumentar o lucro e identificar padrões de comportamento dos clientes.\n",
    "\n",
    "Objetivo: Explorar o conjunto de dados de vendas para descobrir insights sobre o comportamento dos clientes, padrões de venda ao longo do tempo, e identificar fatores que influenciam o volume de vendas."
   ]
  },
  {
   "cell_type": "code",
   "execution_count": 1,
   "metadata": {},
   "outputs": [],
   "source": [
    "# Importando as bibliotecas\n",
    "import pandas as pd\n",
    "import numpy as np"
   ]
  },
  {
   "cell_type": "markdown",
   "metadata": {},
   "source": [
    "#### Carregamento dos dados"
   ]
  },
  {
   "cell_type": "code",
   "execution_count": 14,
   "metadata": {},
   "outputs": [
    {
     "data": {
      "text/html": [
       "<div>\n",
       "<style scoped>\n",
       "    .dataframe tbody tr th:only-of-type {\n",
       "        vertical-align: middle;\n",
       "    }\n",
       "\n",
       "    .dataframe tbody tr th {\n",
       "        vertical-align: top;\n",
       "    }\n",
       "\n",
       "    .dataframe thead th {\n",
       "        text-align: right;\n",
       "    }\n",
       "</style>\n",
       "<table border=\"1\" class=\"dataframe\">\n",
       "  <thead>\n",
       "    <tr style=\"text-align: right;\">\n",
       "      <th></th>\n",
       "      <th>ProductID</th>\n",
       "      <th>CustomerID</th>\n",
       "      <th>ShipDate</th>\n",
       "      <th>Quantity</th>\n",
       "      <th>UnitPrice</th>\n",
       "      <th>TotalPrice</th>\n",
       "      <th>State</th>\n",
       "      <th>Region</th>\n",
       "      <th>Category</th>\n",
       "      <th>Product</th>\n",
       "    </tr>\n",
       "  </thead>\n",
       "  <tbody>\n",
       "    <tr>\n",
       "      <th>0</th>\n",
       "      <td>4</td>\n",
       "      <td>13</td>\n",
       "      <td>2024-04-03</td>\n",
       "      <td>12</td>\n",
       "      <td>1621.89</td>\n",
       "      <td>19462.68</td>\n",
       "      <td>MS</td>\n",
       "      <td>Centro-Oeste</td>\n",
       "      <td>Eletroeletrônicos</td>\n",
       "      <td>Cafeteira Elétrica</td>\n",
       "    </tr>\n",
       "    <tr>\n",
       "      <th>1</th>\n",
       "      <td>15</td>\n",
       "      <td>13</td>\n",
       "      <td>2023-11-03</td>\n",
       "      <td>3</td>\n",
       "      <td>4084.61</td>\n",
       "      <td>12253.83</td>\n",
       "      <td>DF</td>\n",
       "      <td>Centro-Oeste</td>\n",
       "      <td>Casa e Jardim</td>\n",
       "      <td>Aspirador de Pó</td>\n",
       "    </tr>\n",
       "    <tr>\n",
       "      <th>2</th>\n",
       "      <td>28</td>\n",
       "      <td>27</td>\n",
       "      <td>2023-12-03</td>\n",
       "      <td>5</td>\n",
       "      <td>2541.08</td>\n",
       "      <td>12705.40</td>\n",
       "      <td>MS</td>\n",
       "      <td>Centro-Oeste</td>\n",
       "      <td>Informática</td>\n",
       "      <td>Teclado Mecânico</td>\n",
       "    </tr>\n",
       "    <tr>\n",
       "      <th>3</th>\n",
       "      <td>14</td>\n",
       "      <td>4</td>\n",
       "      <td>2024-07-19</td>\n",
       "      <td>20</td>\n",
       "      <td>368.17</td>\n",
       "      <td>7363.40</td>\n",
       "      <td>MS</td>\n",
       "      <td>Centro-Oeste</td>\n",
       "      <td>Eletroeletrônicos</td>\n",
       "      <td>TV 4K 55'</td>\n",
       "    </tr>\n",
       "    <tr>\n",
       "      <th>4</th>\n",
       "      <td>25</td>\n",
       "      <td>17</td>\n",
       "      <td>2024-07-20</td>\n",
       "      <td>12</td>\n",
       "      <td>527.37</td>\n",
       "      <td>6328.44</td>\n",
       "      <td>MG</td>\n",
       "      <td>Sudeste</td>\n",
       "      <td>Videogame</td>\n",
       "      <td>Controle DualSense</td>\n",
       "    </tr>\n",
       "  </tbody>\n",
       "</table>\n",
       "</div>"
      ],
      "text/plain": [
       "   ProductID  CustomerID    ShipDate  Quantity  UnitPrice  TotalPrice State  \\\n",
       "0          4          13  2024-04-03        12    1621.89    19462.68    MS   \n",
       "1         15          13  2023-11-03         3    4084.61    12253.83    DF   \n",
       "2         28          27  2023-12-03         5    2541.08    12705.40    MS   \n",
       "3         14           4  2024-07-19        20     368.17     7363.40    MS   \n",
       "4         25          17  2024-07-20        12     527.37     6328.44    MG   \n",
       "\n",
       "         Region           Category             Product  \n",
       "0  Centro-Oeste  Eletroeletrônicos  Cafeteira Elétrica  \n",
       "1  Centro-Oeste      Casa e Jardim     Aspirador de Pó  \n",
       "2  Centro-Oeste        Informática    Teclado Mecânico  \n",
       "3  Centro-Oeste  Eletroeletrônicos           TV 4K 55'  \n",
       "4       Sudeste          Videogame  Controle DualSense  "
      ]
     },
     "execution_count": 14,
     "metadata": {},
     "output_type": "execute_result"
    }
   ],
   "source": [
    "# Importando a base de dados - Base criado com o GPT\n",
    "df_vendas = pd.read_csv('tabela_vendas.csv', encoding='utf-8')\n",
    "df_vendas.head(5)"
   ]
  },
  {
   "cell_type": "code",
   "execution_count": 15,
   "metadata": {},
   "outputs": [
    {
     "data": {
      "text/plain": [
       "(500, 10)"
      ]
     },
     "execution_count": 15,
     "metadata": {},
     "output_type": "execute_result"
    }
   ],
   "source": [
    "# Tamanha do dataset\n",
    "df_vendas.shape"
   ]
  },
  {
   "cell_type": "markdown",
   "metadata": {},
   "source": [
    "#### Limpeza e preparação dos dados"
   ]
  },
  {
   "cell_type": "code",
   "execution_count": 21,
   "metadata": {},
   "outputs": [
    {
     "data": {
      "text/plain": [
       "0      False\n",
       "1      False\n",
       "2      False\n",
       "3      False\n",
       "4      False\n",
       "       ...  \n",
       "495    False\n",
       "496    False\n",
       "497    False\n",
       "498    False\n",
       "499    False\n",
       "Length: 500, dtype: bool"
      ]
     },
     "execution_count": 21,
     "metadata": {},
     "output_type": "execute_result"
    }
   ],
   "source": [
    "# Valores Duplicados\n",
    "df_vendas.duplicated()"
   ]
  },
  {
   "cell_type": "code",
   "execution_count": 17,
   "metadata": {},
   "outputs": [],
   "source": [
    "# Valores Faltantes"
   ]
  },
  {
   "cell_type": "code",
   "execution_count": 18,
   "metadata": {},
   "outputs": [],
   "source": [
    "# Outliers"
   ]
  },
  {
   "cell_type": "code",
   "execution_count": null,
   "metadata": {},
   "outputs": [],
   "source": []
  }
 ],
 "metadata": {
  "kernelspec": {
   "display_name": "Python 3",
   "language": "python",
   "name": "python3"
  },
  "language_info": {
   "codemirror_mode": {
    "name": "ipython",
    "version": 3
   },
   "file_extension": ".py",
   "mimetype": "text/x-python",
   "name": "python",
   "nbconvert_exporter": "python",
   "pygments_lexer": "ipython3",
   "version": "3.12.4"
  }
 },
 "nbformat": 4,
 "nbformat_minor": 2
}
